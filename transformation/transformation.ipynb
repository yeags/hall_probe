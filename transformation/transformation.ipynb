{
 "cells": [
  {
   "cell_type": "code",
   "execution_count": 96,
   "metadata": {},
   "outputs": [],
   "source": [
    "import numpy as np"
   ]
  },
  {
   "cell_type": "code",
   "execution_count": 97,
   "metadata": {},
   "outputs": [
    {
     "name": "stdout",
     "output_type": "stream",
     "text": [
      "[[  420.7174 -2442.4588 -1210.9075]\n",
      " [  421.5818 -2442.4527 -1210.9061]\n",
      " [  421.6157 -2442.4553 -1210.0495]\n",
      " [  420.7537 -2442.459  -1210.0755]\n",
      " [  421.1445 -2442.4561 -1210.5435]]\n",
      "[[20.3985  0.4413  8.11  ]\n",
      " [21.2629  0.4427  8.1115]\n",
      " [21.2967  0.441   8.9681]\n",
      " [20.4348  0.4419  8.9421]\n",
      " [20.8256  0.4421  8.4741]]\n"
     ]
    }
   ],
   "source": [
    "sp1_mcs = np.genfromtxt('sp1_mcs.txt', delimiter=' ')\n",
    "sp1_pcs = np.genfromtxt('sp1_pcs.txt', delimiter=' ')\n",
    "print(sp1_mcs.round(4))\n",
    "print(sp1_pcs.round(4))"
   ]
  },
  {
   "cell_type": "code",
   "execution_count": 98,
   "metadata": {},
   "outputs": [
    {
     "name": "stdout",
     "output_type": "stream",
     "text": [
      "[ 9.99985244e-01 -5.43190543e-03  7.81016932e-05  5.43199877e-03\n",
      "  9.99984466e-01 -1.24921630e-03 -7.13148552e-05  1.24962212e-03\n",
      "  9.99999217e-01  4.00320965e+02 -2.44300072e+03 -1.21901665e+03] (12,)\n"
     ]
    }
   ],
   "source": [
    "diff = np.genfromtxt('picker_x_mcs.txt', delimiter=' ')\n",
    "print(diff, diff.shape)"
   ]
  },
  {
   "cell_type": "code",
   "execution_count": 99,
   "metadata": {},
   "outputs": [
    {
     "name": "stdout",
     "output_type": "stream",
     "text": [
      "[[ 9.99985244e-01 -5.43190543e-03  7.81016932e-05]\n",
      " [ 5.43199877e-03  9.99984466e-01 -1.24921630e-03]\n",
      " [-7.13148552e-05  1.24962212e-03  9.99999217e-01]] (3, 3)\n",
      "[  400.32096486 -2443.00071753 -1219.01665161] (3,)\n"
     ]
    }
   ],
   "source": [
    "R = diff[:9].reshape((3,3))\n",
    "Txyz = diff[9:]\n",
    "print(R, R.shape)\n",
    "print(Txyz, Txyz.shape)"
   ]
  },
  {
   "cell_type": "code",
   "execution_count": 142,
   "metadata": {},
   "outputs": [
    {
     "name": "stdout",
     "output_type": "stream",
     "text": [
      "[[  420.7174 -2442.4588 -1210.9075]\n",
      " [  421.5818 -2442.4527 -1210.9061]\n",
      " [  421.6157 -2442.4553 -1210.0496]\n",
      " [  420.7537 -2442.459  -1210.0755]\n",
      " [  421.1446 -2442.4561 -1210.5435]]\n"
     ]
    }
   ],
   "source": [
    "asdf = sp1_pcs.copy()\n",
    "for i in range(sp1_pcs.shape[0]):\n",
    "    # print(np.round(R@i + Txyz, 4))\n",
    "    asdf[i] = R@asdf[i] + Txyz\n",
    "print(asdf.round(4))"
   ]
  },
  {
   "cell_type": "code",
   "execution_count": 101,
   "metadata": {},
   "outputs": [
    {
     "name": "stdout",
     "output_type": "stream",
     "text": [
      "[20.3985  0.4413  8.11  ]\n",
      "[21.2629  0.4427  8.1115]\n",
      "[21.2967  0.441   8.9681]\n",
      "[20.4348  0.4419  8.9421]\n",
      "[20.8256  0.4421  8.4741]\n"
     ]
    }
   ],
   "source": [
    "for j in sp1_mcs:\n",
    "    print(np.round(np.linalg.inv(R)@(j - Txyz), 4))"
   ]
  },
  {
   "cell_type": "code",
   "execution_count": 102,
   "metadata": {},
   "outputs": [
    {
     "name": "stdout",
     "output_type": "stream",
     "text": [
      "[  400.32096486 -2443.00071753 -1219.01665161]\n",
      "3.198438726506147 0.001251644198044737 3.0793145997728404\n"
     ]
    }
   ],
   "source": [
    "mcs_export = np.genfromtxt('mcs_export.txt', delimiter=' ')\n",
    "mcs_export_T = -mcs_export[:3]\n",
    "mcs_export_e = mcs_export[3:]\n",
    "e1, e2, e4 = [np.deg2rad(i) for i in mcs_export_e]\n",
    "print(mcs_export_T)\n",
    "print(e1, e2, e4)"
   ]
  },
  {
   "cell_type": "code",
   "execution_count": 103,
   "metadata": {},
   "outputs": [],
   "source": [
    "Rz1 = np.array([[np.cos(e1), -np.sin(e1), 0],\n",
    "               [np.sin(e1), np.cos(e1), 0],\n",
    "               [0, 0, 1]])\n",
    "Rx = np.array([[1, 0, 0],\n",
    "               [0, np.cos(e2), -np.sin(e2)],\n",
    "               [0, np.sin(e2), np.cos(e2)]])\n",
    "Rz2 = np.array([[np.cos(e4), -np.sin(e4), 0],\n",
    "                [np.sin(e4), np.cos(e4), 0],\n",
    "                [0, 0, 1]])\n",
    "R_mcs_export = np.linalg.inv(Rz1@Rx@Rz2)"
   ]
  },
  {
   "cell_type": "code",
   "execution_count": 104,
   "metadata": {},
   "outputs": [
    {
     "data": {
      "text/plain": [
       "array([[ 9.99985244e-01, -5.43190552e-03,  7.78995653e-05],\n",
       "       [ 5.43199861e-03,  9.99984466e-01, -1.24921737e-03],\n",
       "       [-7.11127245e-05,  1.24962209e-03,  9.99999217e-01]])"
      ]
     },
     "execution_count": 104,
     "metadata": {},
     "output_type": "execute_result"
    }
   ],
   "source": [
    "R_mcs_export"
   ]
  },
  {
   "cell_type": "code",
   "execution_count": 105,
   "metadata": {},
   "outputs": [
    {
     "name": "stdout",
     "output_type": "stream",
     "text": [
      "[  420.7174 -2442.4588 -1210.9075]\n",
      "[  421.5818 -2442.4527 -1210.9061]\n",
      "[  421.6157 -2442.4553 -1210.0496]\n",
      "[  420.7537 -2442.459  -1210.0755]\n",
      "[  421.1446 -2442.4561 -1210.5435]\n"
     ]
    }
   ],
   "source": [
    "for i in sp1_pcs:\n",
    "    print(np.round(R_mcs_export@i + mcs_export_T, 4))"
   ]
  },
  {
   "cell_type": "code",
   "execution_count": 106,
   "metadata": {},
   "outputs": [
    {
     "data": {
      "text/plain": [
       "array([[  420.7174, -2442.4588, -1210.9075],\n",
       "       [  421.5818, -2442.4527, -1210.9061],\n",
       "       [  421.6157, -2442.4553, -1210.0495],\n",
       "       [  420.7537, -2442.459 , -1210.0755],\n",
       "       [  421.1445, -2442.4561, -1210.5435]])"
      ]
     },
     "execution_count": 106,
     "metadata": {},
     "output_type": "execute_result"
    }
   ],
   "source": [
    "sp1_mcs.round(4)"
   ]
  },
  {
   "cell_type": "code",
   "execution_count": 108,
   "metadata": {},
   "outputs": [
    {
     "name": "stdout",
     "output_type": "stream",
     "text": [
      "[20.3985  0.4413  8.11  ]\n",
      "[21.2629  0.4427  8.1115]\n",
      "[21.2967  0.441   8.9681]\n",
      "[20.4348  0.4419  8.9421]\n",
      "[20.8256  0.4421  8.4741]\n"
     ]
    }
   ],
   "source": [
    "for j in sp1_mcs:\n",
    "    print(np.round(np.linalg.inv(R_mcs_export)@(j - mcs_export_T), 4))"
   ]
  },
  {
   "cell_type": "code",
   "execution_count": 111,
   "metadata": {},
   "outputs": [
    {
     "name": "stdout",
     "output_type": "stream",
     "text": [
      "[[20.3985  0.4413  8.11  ]\n",
      " [21.2629  0.4427  8.1115]\n",
      " [21.2967  0.441   8.9681]\n",
      " [20.4348  0.4419  8.9421]\n",
      " [20.8256  0.4421  8.4741]]\n"
     ]
    }
   ],
   "source": [
    "print(sp1_pcs.round(4))"
   ]
  },
  {
   "cell_type": "code",
   "execution_count": null,
   "metadata": {},
   "outputs": [],
   "source": []
  }
 ],
 "metadata": {
  "kernelspec": {
   "display_name": "Python 3",
   "language": "python",
   "name": "python3"
  },
  "language_info": {
   "codemirror_mode": {
    "name": "ipython",
    "version": 3
   },
   "file_extension": ".py",
   "mimetype": "text/x-python",
   "name": "python",
   "nbconvert_exporter": "python",
   "pygments_lexer": "ipython3",
   "version": "3.7.4"
  }
 },
 "nbformat": 4,
 "nbformat_minor": 4
}
