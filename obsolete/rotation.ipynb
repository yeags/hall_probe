{
 "cells": [
  {
   "cell_type": "code",
   "execution_count": 17,
   "metadata": {},
   "outputs": [],
   "source": [
    "import numpy as np"
   ]
  },
  {
   "cell_type": "code",
   "execution_count": 18,
   "metadata": {},
   "outputs": [],
   "source": [
    "pcs = np.array([[1,0,0],\n",
    "                [0,1,0],\n",
    "                [0,0,1]])\n",
    "hall = np.array([-0.075, 0.233, 0.045])"
   ]
  },
  {
   "cell_type": "code",
   "execution_count": 19,
   "metadata": {},
   "outputs": [
    {
     "name": "stdout",
     "output_type": "stream",
     "text": [
      "[-0.30135553  0.93621119  0.18081332]\n"
     ]
    }
   ],
   "source": [
    "hall_unit = hall/np.linalg.norm(hall)\n",
    "print(hall_unit)"
   ]
  },
  {
   "cell_type": "code",
   "execution_count": 21,
   "metadata": {},
   "outputs": [
    {
     "name": "stdout",
     "output_type": "stream",
     "text": [
      "[-0.18962881  0.98185585]\n"
     ]
    }
   ],
   "source": [
    "h = np.array([-0.045, 0.233])\n",
    "print(h/np.linalg.norm(h))"
   ]
  },
  {
   "cell_type": "code",
   "execution_count": 28,
   "metadata": {},
   "outputs": [
    {
     "name": "stdout",
     "output_type": "stream",
     "text": [
      "[-0.1739877   0.54052178  0.10439262]\n"
     ]
    }
   ],
   "source": [
    "hs_theta = np.dot(hall_unit, pcs)/(np.linalg.norm(hall_unit)*np.linalg.norm(pcs))\n",
    "print(hs_theta)"
   ]
  },
  {
   "cell_type": "code",
   "execution_count": 30,
   "metadata": {},
   "outputs": [],
   "source": [
    "def rotate(theta_array, vector):\n",
    "    Rx = np.array([[1, 0, 0],\n",
    "                   [0, np.cos(theta_array[0]), -np.sin(theta_array[0])],\n",
    "                   [0, np.sin(theta_array[0]), np.cos(theta_array[0])]])\n",
    "    Ry = np.array([[np.cos(theta_array[1]), 0, np.sin(theta_array[1])],\n",
    "                   [0, 1, 0],\n",
    "                   [-np.sin(theta_array[1]), 0, np.cos(theta_array[1])]])\n",
    "    Rz = np.array([[np.cos(theta_array[2]), -np.sin(theta_array[2]), 0],\n",
    "                   [np.sin(theta_array[2]), np.cos(theta_array[2]), 0],\n",
    "                   [0, 0, 1]])\n",
    "    R = Rx@Ry@Rz\n",
    "    return R@vector"
   ]
  },
  {
   "cell_type": "code",
   "execution_count": 31,
   "metadata": {},
   "outputs": [
    {
     "data": {
      "text/plain": [
       "array([-0.06161975,  0.23602261,  0.04934911])"
      ]
     },
     "execution_count": 31,
     "metadata": {},
     "output_type": "execute_result"
    }
   ],
   "source": [
    "rotate(hs_theta, hall)"
   ]
  },
  {
   "cell_type": "code",
   "execution_count": null,
   "metadata": {},
   "outputs": [],
   "source": []
  }
 ],
 "metadata": {
  "kernelspec": {
   "display_name": "Python 3",
   "language": "python",
   "name": "python3"
  },
  "language_info": {
   "codemirror_mode": {
    "name": "ipython",
    "version": 3
   },
   "file_extension": ".py",
   "mimetype": "text/x-python",
   "name": "python",
   "nbconvert_exporter": "python",
   "pygments_lexer": "ipython3",
   "version": "3.7.4"
  }
 },
 "nbformat": 4,
 "nbformat_minor": 4
}
