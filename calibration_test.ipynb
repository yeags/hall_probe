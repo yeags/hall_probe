{
 "cells": [
  {
   "cell_type": "code",
   "execution_count": 1,
   "metadata": {},
   "outputs": [],
   "source": [
    "import numpy as np\n",
    "import calibration"
   ]
  },
  {
   "cell_type": "code",
   "execution_count": 3,
   "metadata": {},
   "outputs": [],
   "source": [
    "import os"
   ]
  },
  {
   "cell_type": "code",
   "execution_count": 2,
   "metadata": {},
   "outputs": [],
   "source": [
    "raw_data = np.random.random((100,4))"
   ]
  },
  {
   "cell_type": "code",
   "execution_count": 4,
   "metadata": {},
   "outputs": [],
   "source": [
    "calib_folder = r'C:\\Users\\dyeagly\\Documents\\hall_probe\\hall_probe\\Hall probe 443-20'"
   ]
  },
  {
   "cell_type": "code",
   "execution_count": 11,
   "metadata": {},
   "outputs": [
    {
     "name": "stdout",
     "output_type": "stream",
     "text": [
      "(3, 3, 7)\n",
      "[[2.1600e-01 2.7700e-05 4.7000e-03 3.6900e-03 6.7500e-01 3.4000e-01\n",
      "  5.7000e+01]\n",
      " [0.0000e+00 0.0000e+00 0.0000e+00 0.0000e+00 1.0000e+00 0.0000e+00\n",
      "  1.0000e+00]\n",
      " [5.1000e-02 2.1750e-04 3.9586e-03 0.0000e+00 9.4300e-01 3.4000e-01\n",
      "  5.7000e+01]]\n",
      "\n",
      "\n",
      "[[6.5000e-02 3.1800e-05 2.1950e-03 4.7000e-04 6.5400e-01 3.4000e-01\n",
      "  5.7000e+01]\n",
      " [0.0000e+00 0.0000e+00 0.0000e+00 0.0000e+00 1.0000e+00 0.0000e+00\n",
      "  1.0000e+00]\n",
      " [8.3000e-02 1.8150e-04 1.3675e-03 0.0000e+00 9.1700e-01 3.4000e-01\n",
      "  5.7000e+01]]\n",
      "\n",
      "\n",
      "[[3.000e-02 2.770e-05 4.600e-03 1.230e-03 6.760e-01 3.400e-01 5.700e+01]\n",
      " [0.000e+00 0.000e+00 0.000e+00 0.000e+00 1.000e+00 0.000e+00 1.000e+00]\n",
      " [9.200e-02 2.203e-04 3.800e-03 0.000e+00 9.430e-01 3.400e-01 5.700e+01]]\n",
      "\n",
      "\n"
     ]
    }
   ],
   "source": [
    "calib_array = calibration.get_xyz_calib_values(calib_folder)\n",
    "print(calib_array.shape)\n",
    "for axis in calib_array:\n",
    "    print(axis)\n",
    "    print('\\n')"
   ]
  },
  {
   "cell_type": "code",
   "execution_count": 23,
   "metadata": {},
   "outputs": [
    {
     "name": "stdout",
     "output_type": "stream",
     "text": [
      "(4,)\n",
      "[ 0.05017263  0.08392608  0.09408699 -0.00217513]\n"
     ]
    }
   ],
   "source": [
    "# raw_cleaned = calibration.clean_raw_data(raw_data)\n",
    "raw_cleaned = np.array([0.050172634, 0.083926075, 0.09408699, -0.002175129])\n",
    "print(raw_cleaned.shape)\n",
    "print(raw_cleaned)"
   ]
  },
  {
   "cell_type": "code",
   "execution_count": 24,
   "metadata": {},
   "outputs": [],
   "source": [
    "calib_sample = calibration.calib_data(calib_array, raw_cleaned)"
   ]
  },
  {
   "cell_type": "code",
   "execution_count": 25,
   "metadata": {},
   "outputs": [
    {
     "data": {
      "text/plain": [
       "array([38.19503622, 61.2468812 , 70.25016685])"
      ]
     },
     "execution_count": 25,
     "metadata": {},
     "output_type": "execute_result"
    }
   ],
   "source": [
    "calib_sample"
   ]
  },
  {
   "cell_type": "code",
   "execution_count": 26,
   "metadata": {},
   "outputs": [
    {
     "data": {
      "text/plain": [
       "100.7230221521557"
      ]
     },
     "execution_count": 26,
     "metadata": {},
     "output_type": "execute_result"
    }
   ],
   "source": [
    "np.linalg.norm(calib_sample)"
   ]
  },
  {
   "cell_type": "code",
   "execution_count": 33,
   "metadata": {},
   "outputs": [
    {
     "name": "stdout",
     "output_type": "stream",
     "text": [
      "[[1 2 3]\n",
      " [7 1 4]\n",
      " [2 5 9]\n",
      " [3 3 3]] (4, 3)\n"
     ]
    }
   ],
   "source": [
    "a = np.array([[1,2,3], [7,1,4], [2,5,9], [3,3,3]])\n",
    "print(a, a.shape)"
   ]
  },
  {
   "cell_type": "code",
   "execution_count": 34,
   "metadata": {},
   "outputs": [
    {
     "name": "stdout",
     "output_type": "stream",
     "text": [
      "[ 3.74165739  8.1240384  10.48808848  5.19615242]\n"
     ]
    }
   ],
   "source": [
    "print(np.linalg.norm(a, axis=1))"
   ]
  },
  {
   "cell_type": "code",
   "execution_count": null,
   "metadata": {},
   "outputs": [],
   "source": []
  }
 ],
 "metadata": {
  "kernelspec": {
   "display_name": "Python 3",
   "language": "python",
   "name": "python3"
  },
  "language_info": {
   "codemirror_mode": {
    "name": "ipython",
    "version": 3
   },
   "file_extension": ".py",
   "mimetype": "text/x-python",
   "name": "python",
   "nbconvert_exporter": "python",
   "pygments_lexer": "ipython3",
   "version": "3.7.4"
  }
 },
 "nbformat": 4,
 "nbformat_minor": 4
}
