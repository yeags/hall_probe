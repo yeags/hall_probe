{
 "cells": [
  {
   "cell_type": "code",
   "execution_count": 1,
   "metadata": {},
   "outputs": [],
   "source": [
    "import numpy as np\n",
    "np.set_printoptions(suppress=True)"
   ]
  },
  {
   "cell_type": "code",
   "execution_count": 2,
   "metadata": {},
   "outputs": [
    {
     "name": "stderr",
     "output_type": "stream",
     "text": [
      "In c:\\users\\dyeagly\\appdata\\local\\programs\\python\\python37\\lib\\site-packages\\matplotlib\\mpl-data\\stylelib\\_classic_test.mplstyle: \n",
      "The text.latex.preview rcparam was deprecated in Matplotlib 3.3 and will be removed two minor releases later.\n",
      "In c:\\users\\dyeagly\\appdata\\local\\programs\\python\\python37\\lib\\site-packages\\matplotlib\\mpl-data\\stylelib\\_classic_test.mplstyle: \n",
      "The mathtext.fallback_to_cm rcparam was deprecated in Matplotlib 3.3 and will be removed two minor releases later.\n",
      "In c:\\users\\dyeagly\\appdata\\local\\programs\\python\\python37\\lib\\site-packages\\matplotlib\\mpl-data\\stylelib\\_classic_test.mplstyle: Support for setting the 'mathtext.fallback_to_cm' rcParam is deprecated since 3.3 and will be removed two minor releases later; use 'mathtext.fallback : 'cm' instead.\n",
      "In c:\\users\\dyeagly\\appdata\\local\\programs\\python\\python37\\lib\\site-packages\\matplotlib\\mpl-data\\stylelib\\_classic_test.mplstyle: \n",
      "The validate_bool_maybe_none function was deprecated in Matplotlib 3.3 and will be removed two minor releases later.\n",
      "In c:\\users\\dyeagly\\appdata\\local\\programs\\python\\python37\\lib\\site-packages\\matplotlib\\mpl-data\\stylelib\\_classic_test.mplstyle: \n",
      "The savefig.jpeg_quality rcparam was deprecated in Matplotlib 3.3 and will be removed two minor releases later.\n",
      "In c:\\users\\dyeagly\\appdata\\local\\programs\\python\\python37\\lib\\site-packages\\matplotlib\\mpl-data\\stylelib\\_classic_test.mplstyle: \n",
      "The keymap.all_axes rcparam was deprecated in Matplotlib 3.3 and will be removed two minor releases later.\n",
      "In c:\\users\\dyeagly\\appdata\\local\\programs\\python\\python37\\lib\\site-packages\\matplotlib\\mpl-data\\stylelib\\_classic_test.mplstyle: \n",
      "The animation.avconv_path rcparam was deprecated in Matplotlib 3.3 and will be removed two minor releases later.\n",
      "In c:\\users\\dyeagly\\appdata\\local\\programs\\python\\python37\\lib\\site-packages\\matplotlib\\mpl-data\\stylelib\\_classic_test.mplstyle: \n",
      "The animation.avconv_args rcparam was deprecated in Matplotlib 3.3 and will be removed two minor releases later.\n"
     ]
    }
   ],
   "source": [
    "import matplotlib.pyplot as plt\n",
    "%matplotlib inline"
   ]
  },
  {
   "cell_type": "code",
   "execution_count": 3,
   "metadata": {},
   "outputs": [
    {
     "name": "stdout",
     "output_type": "stream",
     "text": [
      "(600,)\n"
     ]
    }
   ],
   "source": [
    "data = np.genfromtxt('packet_response.txt')\n",
    "print(data.shape)"
   ]
  },
  {
   "cell_type": "code",
   "execution_count": 4,
   "metadata": {},
   "outputs": [
    {
     "data": {
      "text/plain": [
       "(array([114,  75,  55,  22,  18,  19,  13,  11,  16,   7,  20,  15,  11,\n",
       "         14,  18,  16,  17,  11,  18,  10,  13,  12,  19,  12,  12,  10,\n",
       "         12,   8,   1,   0,   0,   0,   0,   0,   0,   0,   0,   0,   0,\n",
       "          1], dtype=int64),\n",
       " array([0.203 , 0.3584, 0.5138, 0.6692, 0.8246, 0.98  , 1.1354, 1.2908,\n",
       "        1.4462, 1.6016, 1.757 , 1.9124, 2.0678, 2.2232, 2.3786, 2.534 ,\n",
       "        2.6894, 2.8448, 3.0002, 3.1556, 3.311 , 3.4664, 3.6218, 3.7772,\n",
       "        3.9326, 4.088 , 4.2434, 4.3988, 4.5542, 4.7096, 4.865 , 5.0204,\n",
       "        5.1758, 5.3312, 5.4866, 5.642 , 5.7974, 5.9528, 6.1082, 6.2636,\n",
       "        6.419 ]))"
      ]
     },
     "execution_count": 4,
     "metadata": {},
     "output_type": "execute_result"
    }
   ],
   "source": [
    "np.histogram(data, bins=40)"
   ]
  },
  {
   "cell_type": "code",
   "execution_count": 5,
   "metadata": {},
   "outputs": [],
   "source": [
    "hg_count, hg_bins = np.histogram(data, bins=40)"
   ]
  },
  {
   "cell_type": "code",
   "execution_count": 6,
   "metadata": {},
   "outputs": [
    {
     "name": "stdout",
     "output_type": "stream",
     "text": [
      "(40,) (41,)\n"
     ]
    }
   ],
   "source": [
    "print(hg_count.shape, hg_bins.shape)"
   ]
  },
  {
   "cell_type": "code",
   "execution_count": 7,
   "metadata": {},
   "outputs": [],
   "source": [
    "x = np.arange(1, hg_count.size+1)"
   ]
  },
  {
   "cell_type": "code",
   "execution_count": 8,
   "metadata": {},
   "outputs": [
    {
     "name": "stdout",
     "output_type": "stream",
     "text": [
      "[-20.98085004  72.86551996]\n"
     ]
    }
   ],
   "source": [
    "fit = np.polyfit(np.log(x), hg_count, 1)\n",
    "print(fit)"
   ]
  },
  {
   "cell_type": "code",
   "execution_count": 9,
   "metadata": {},
   "outputs": [],
   "source": [
    "x_fit = np.arange(1, hg_count.shape[0]+1, 0.1)\n",
    "y_fit = fit[0]*np.log(x_fit) + fit[1]"
   ]
  },
  {
   "cell_type": "code",
   "execution_count": 10,
   "metadata": {},
   "outputs": [
    {
     "data": {
      "image/png": "[encoded data removed]",
      "text/plain": [
       "<Figure size 1152x576 with 1 Axes>"
      ]
     },
     "metadata": {
      "needs_background": "light"
     },
     "output_type": "display_data"
    }
   ],
   "source": [
    "plt.figure(figsize=(16,8))\n",
    "plt.scatter(x, hg_count, label='packet counts')\n",
    "plt.plot(x_fit, y_fit, 'b--', label='log fit')\n",
    "plt.grid()\n",
    "plt.legend()\n",
    "plt.show()"
   ]
  },
  {
   "cell_type": "markdown",
   "metadata": {},
   "source": [
    "### Zero Gauss Signal Offset"
   ]
  },
  {
   "cell_type": "code",
   "execution_count": 11,
   "metadata": {},
   "outputs": [],
   "source": [
    "from calibration import get_xyz_calib_values"
   ]
  },
  {
   "cell_type": "code",
   "execution_count": 12,
   "metadata": {},
   "outputs": [],
   "source": [
    "zg_offset = np.genfromtxt('zg_offset.txt')"
   ]
  },
  {
   "cell_type": "code",
   "execution_count": 13,
   "metadata": {},
   "outputs": [],
   "source": [
    "calib_coeffs = get_xyz_calib_values('Hall probe 444-20')"
   ]
  },
  {
   "cell_type": "code",
   "execution_count": 14,
   "metadata": {},
   "outputs": [
    {
     "name": "stdout",
     "output_type": "stream",
     "text": [
      "Calibration X\n",
      "[[-0.098      0.0000211  0.0041    -0.00133    0.704      0.39\n",
      "  57.       ]\n",
      " [ 0.         0.         0.         0.         1.         0.\n",
      "   1.       ]\n",
      " [-0.067      0.0001931  0.0033388 -0.00052    0.988583   0.39\n",
      "  57.       ]]\n",
      "Calibration Y\n",
      "[[ 0.059      0.0000358  0.0017     0.         0.703      0.39\n",
      "  57.       ]\n",
      " [ 0.         0.         0.         0.         1.         0.\n",
      "   1.       ]\n",
      " [ 0.051      0.000187   0.0008482  0.         0.993285   0.39\n",
      "  57.       ]]\n",
      "Calibration Z\n",
      "[[-0.283      0.000034   0.0039    -0.00095    0.709      0.39\n",
      "  57.       ]\n",
      " [ 0.         0.         0.         0.         1.         0.\n",
      "   1.       ]\n",
      " [-0.049      0.0002063  0.003      0.         0.997      0.39\n",
      "  57.       ]]\n"
     ]
    }
   ],
   "source": [
    "labels = ['Calibration X', 'Calibration Y', 'Calibration Z']\n",
    "for i, j in enumerate(calib_coeffs):\n",
    "    print(labels[i])\n",
    "    print(j)"
   ]
  },
  {
   "cell_type": "code",
   "execution_count": 15,
   "metadata": {},
   "outputs": [
    {
     "name": "stdout",
     "output_type": "stream",
     "text": [
      "[ 0.06426112 -0.05237014  0.05077035]\n"
     ]
    }
   ],
   "source": [
    "print(zg_offset)"
   ]
  },
  {
   "cell_type": "code",
   "execution_count": 16,
   "metadata": {},
   "outputs": [
    {
     "data": {
      "text/plain": [
       "-0.067"
      ]
     },
     "execution_count": 16,
     "metadata": {},
     "output_type": "execute_result"
    }
   ],
   "source": [
    "calib_coeffs[0, 2, 0]"
   ]
  },
  {
   "cell_type": "code",
   "execution_count": 17,
   "metadata": {},
   "outputs": [
    {
     "data": {
      "text/plain": [
       "array([-0.067,  0.051, -0.049])"
      ]
     },
     "execution_count": 17,
     "metadata": {},
     "output_type": "execute_result"
    }
   ],
   "source": [
    "calib_coeffs[:, 2, 0]"
   ]
  },
  {
   "cell_type": "code",
   "execution_count": 18,
   "metadata": {},
   "outputs": [],
   "source": [
    "calib_coeffs[:, 2, 0] = -zg_offset"
   ]
  },
  {
   "cell_type": "code",
   "execution_count": 19,
   "metadata": {},
   "outputs": [
    {
     "data": {
      "text/plain": [
       "array([-0.06426112,  0.05237014, -0.05077035])"
      ]
     },
     "execution_count": 19,
     "metadata": {},
     "output_type": "execute_result"
    }
   ],
   "source": [
    "calib_coeffs[:, 2, 0]"
   ]
  },
  {
   "cell_type": "code",
   "execution_count": 20,
   "metadata": {},
   "outputs": [],
   "source": [
    "import os"
   ]
  },
  {
   "cell_type": "code",
   "execution_count": 21,
   "metadata": {},
   "outputs": [],
   "source": [
    "if os.path.isfile('zg_calib_coeffs.txt'):\n",
    "    os.remove('zg_calib_coeffs.txt')\n",
    "with open('zg_calib_coeffs.txt', 'a') as file:\n",
    "    for i in calib_coeffs:\n",
    "        np.savetxt(file, i, fmt='%.6f')"
   ]
  },
  {
   "cell_type": "code",
   "execution_count": 22,
   "metadata": {},
   "outputs": [],
   "source": [
    "np.save('zg_calib_coeffs.npy', calib_coeffs, allow_pickle=False)"
   ]
  },
  {
   "cell_type": "code",
   "execution_count": 23,
   "metadata": {},
   "outputs": [
    {
     "name": "stdout",
     "output_type": "stream",
     "text": [
      "(300, 2)\n"
     ]
    }
   ],
   "source": [
    "pt = np.genfromtxt('packet_times.txt')\n",
    "print(pt.shape)"
   ]
  },
  {
   "cell_type": "code",
   "execution_count": 24,
   "metadata": {},
   "outputs": [],
   "source": [
    "from scipy.stats import gmean, gstd"
   ]
  },
  {
   "cell_type": "code",
   "execution_count": 25,
   "metadata": {},
   "outputs": [
    {
     "name": "stdout",
     "output_type": "stream",
     "text": [
      "[0.95549242 0.9702711 ]\n",
      "[2.89289401 2.88698398]\n"
     ]
    }
   ],
   "source": [
    "print(gmean(pt, axis=0))\n",
    "print(gstd(pt, axis=0, ddof=1))"
   ]
  },
  {
   "cell_type": "code",
   "execution_count": 26,
   "metadata": {},
   "outputs": [
    {
     "name": "stdout",
     "output_type": "stream",
     "text": [
      "2.892894011475198\n"
     ]
    }
   ],
   "source": [
    "gsig = np.exp(np.sqrt(np.sum(np.log(pt[:, 0]/gmean(pt[:, 0]))**2)/(pt.shape[0]-1)))\n",
    "print(gsig)"
   ]
  }
 ],
 "metadata": {
  "kernelspec": {
   "display_name": "Python 3",
   "language": "python",
   "name": "python3"
  },
  "language_info": {
   "codemirror_mode": {
    "name": "ipython",
    "version": 3
   },
   "file_extension": ".py",
   "mimetype": "text/x-python",
   "name": "python",
   "nbconvert_exporter": "python",
   "pygments_lexer": "ipython3",
   "version": "3.7.4"
  }
 },
 "nbformat": 4,
 "nbformat_minor": 4
}
